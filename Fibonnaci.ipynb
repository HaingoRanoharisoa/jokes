{
 "cells": [
  {
   "cell_type": "code",
   "execution_count": 1,
   "id": "6855a23d",
   "metadata": {},
   "outputs": [],
   "source": [
    "import numpy"
   ]
  },
  {
   "cell_type": "code",
   "execution_count": 32,
   "id": "ee172f9a",
   "metadata": {},
   "outputs": [
    {
     "name": "stdout",
     "output_type": "stream",
     "text": [
      "10\n",
      "10 th fibonacci number is : 89\n"
     ]
    }
   ],
   "source": [
    "fibonacci=(1,2)\n",
    "fib_list = list(fibonacci)\n",
    "number = int(input(\"\"))\n",
    "number2= number-1\n",
    "def fibonacci(number):\n",
    "    i=3\n",
    "    if number==1:\n",
    "        fib_cal=1\n",
    "    elif number == 2:\n",
    "        fib_cal = 2\n",
    "    elif number>2:\n",
    "        while i<=number:\n",
    "            #print(\"fib_list2=\", fib_list[1], \"fib_list1=\", fib_list[0] )\n",
    "            fib_cal = fib_list[i-2]+fib_list[i-3]\n",
    "            fib_list.append(fib_cal)\n",
    "            i=i+1    \n",
    "    return fib_cal\n",
    "    #print(fib_list[-1])\n",
    "\n",
    "print(number, \"th fibonacci number is :\", fibonacci(number))\n",
    "\n",
    "# EVEN VALUED TERMS\n",
    "\n",
    "    \n",
    "#print(i, \"th fibonacci is \", fib_list[-1])"
   ]
  },
  {
   "cell_type": "code",
   "execution_count": null,
   "id": "3f10bf90",
   "metadata": {},
   "outputs": [
    {
     "name": "stdout",
     "output_type": "stream",
     "text": [
      "limit : 5\n"
     ]
    }
   ],
   "source": [
    "fibonacci=(1,2)\n",
    "fib_list = list(fibonacci)\n",
    "limit=int(input(\"limit : \"))\n",
    "def fibonacci_less_than(limit):\n",
    "    i=3\n",
    "    while i>2:\n",
    "        fib_cal = fib_list[i-2]+fib_list[i-3]\n",
    "        fib_list.append(fib_cal)\n",
    "        i=i+1    \n",
    "    return fib_cal\n",
    "    #print(fib_list[-1])\n",
    "\n",
    "print(\"fibonacci number less than \", limit, \"is\", fibonacci_less_than(limit))\n",
    "\n",
    "\n",
    "\n",
    "# EVEN VALUED TERMS\n",
    "\n",
    "    \n",
    "#print(i, \"th fibonacci is \", fib_list[-1])"
   ]
  }
 ],
 "metadata": {
  "kernelspec": {
   "display_name": "Python 3 (ipykernel)",
   "language": "python",
   "name": "python3"
  },
  "language_info": {
   "codemirror_mode": {
    "name": "ipython",
    "version": 3
   },
   "file_extension": ".py",
   "mimetype": "text/x-python",
   "name": "python",
   "nbconvert_exporter": "python",
   "pygments_lexer": "ipython3",
   "version": "3.11.5"
  }
 },
 "nbformat": 4,
 "nbformat_minor": 5
}
